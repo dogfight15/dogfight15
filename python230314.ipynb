{
  "nbformat": 4,
  "nbformat_minor": 0,
  "metadata": {
    "colab": {
      "provenance": [],
      "authorship_tag": "ABX9TyM3c2uX6d1VsHIrBRQ6pgY5",
      "include_colab_link": true
    },
    "kernelspec": {
      "name": "python3",
      "display_name": "Python 3"
    },
    "language_info": {
      "name": "python"
    }
  },
  "cells": [
    {
      "cell_type": "markdown",
      "metadata": {
        "id": "view-in-github",
        "colab_type": "text"
      },
      "source": [
        "<a href=\"https://colab.research.google.com/github/dogfight15/dogfight15/blob/main/python230314.ipynb\" target=\"_parent\"><img src=\"https://colab.research.google.com/assets/colab-badge.svg\" alt=\"Open In Colab\"/></a>"
      ]
    },
    {
      "cell_type": "markdown",
      "source": [],
      "metadata": {
        "id": "XWJ9ufv1fXDT"
      }
    },
    {
      "cell_type": "markdown",
      "source": [
        "## 파이선 기초 문ㅂ1ㅓㅂ\n",
        "- 주석처리\n",
        "- 여러줄 주석처리시\n",
        "  +함수, 클래스 작성할 때\n",
        "  요긴하게 쓰임 (예 : Docstring)\n",
        "  "
      ],
      "metadata": {
        "id": "k8AdYhUwfZWq"
      }
    },
    {
      "cell_type": "code",
      "source": [
        "1+1\n"
      ],
      "metadata": {
        "id": "TFdibPdyHLtz",
        "colab": {
          "base_uri": "https://localhost:8080/"
        },
        "outputId": "66353dc5-fd9c-46da-816d-8d33d69252ef"
      },
      "execution_count": 3,
      "outputs": [
        {
          "output_type": "execute_result",
          "data": {
            "text/plain": [
              "2"
            ]
          },
          "metadata": {},
          "execution_count": 3
        }
      ]
    },
    {
      "cell_type": "code",
      "source": [
        "## 파이선 기초문법\n",
        "  \n",
        "# 1. 이 코드는 무슨무슨 코드압니다\n",
        "\n",
        "'''\n",
        "여러줄 주석 처리\n",
        "'''\n",
        "\n",
        "\"\"\"\n",
        "이러이러한\n",
        "\"\"\"\n",
        "\n",
        "print(\"HELLO WORLD\")"
      ],
      "metadata": {
        "colab": {
          "base_uri": "https://localhost:8080/"
        },
        "id": "AZfgk7BJHS1v",
        "outputId": "f4383690-7a67-4cd2-d8ac-80fad408a5a3"
      },
      "execution_count": 7,
      "outputs": [
        {
          "output_type": "stream",
          "name": "stdout",
          "text": [
            "HELLO WORLD\n"
          ]
        }
      ]
    },
    {
      "cell_type": "code",
      "source": [],
      "metadata": {
        "id": "uqFBbITphQEw"
      },
      "execution_count": null,
      "outputs": []
    },
    {
      "cell_type": "markdown",
      "source": [
        "$$ 변수의 종류 (Scala 자료형)\n",
        "- 4가지 존재 : int, float, bool, None\n",
        "-- 스칼라의 의미: 더 이상 나누어지지 않는 것\n"
      ],
      "metadata": {
        "id": "r8kepZC6hUZT"
      }
    },
    {
      "cell_type": "markdown",
      "source": [
        "int 형 예제\n",
        "\n",
        "기초문법\n",
        "  \n",
        "판다스 문법\n",
        "\n",
        "대분류2"
      ],
      "metadata": {
        "id": "bbQjWBuuhonz"
      }
    },
    {
      "cell_type": "code",
      "source": [
        " temp_int = '1'\n",
        " print (temp_int)\n",
        " print(type(temp_int))"
      ],
      "metadata": {
        "colab": {
          "base_uri": "https://localhost:8080/"
        },
        "id": "kHdmlmRmh-Hb",
        "outputId": "31dd69c9-c4f5-4c05-ec51-be29ef60e64f"
      },
      "execution_count": 11,
      "outputs": [
        {
          "output_type": "stream",
          "name": "stdout",
          "text": [
            "1\n",
            "<class 'str'>\n"
          ]
        }
      ]
    },
    {
      "cell_type": "markdown",
      "source": [
        "문자열"
      ],
      "metadata": {
        "id": "R5JQqp0Ui8oz"
      }
    },
    {
      "cell_type": "code",
      "source": [
        "temp_int = '1'\n",
        "print(temp_int)"
      ],
      "metadata": {
        "colab": {
          "base_uri": "https://localhost:8080/"
        },
        "id": "AAHy67Dgi-mc",
        "outputId": "63ef6ec1-2110-4c71-c156-6d2d95e42ee2"
      },
      "execution_count": 8,
      "outputs": [
        {
          "output_type": "stream",
          "name": "stdout",
          "text": [
            "1\n"
          ]
        }
      ]
    },
    {
      "cell_type": "markdown",
      "source": [
        "## float 형 예제\n",
        "- 실수형 \n"
      ],
      "metadata": {
        "id": "C8mCrBT9jgLs"
      }
    },
    {
      "cell_type": "code",
      "source": [
        "num_float = 0.2\n",
        "print(num_float)\n",
        "print(type(num_float))\n"
      ],
      "metadata": {
        "colab": {
          "base_uri": "https://localhost:8080/"
        },
        "id": "tfLqQqtqjlN0",
        "outputId": "594cf42c-42db-42be-bad4-9e96ba24c08b"
      },
      "execution_count": 12,
      "outputs": [
        {
          "output_type": "stream",
          "name": "stdout",
          "text": [
            "0.2\n",
            "<class 'float'>\n"
          ]
        }
      ]
    },
    {
      "cell_type": "markdown",
      "source": [
        "### Bool 형\n",
        "- 참 거짓"
      ],
      "metadata": {
        "id": "E140OxaSkHVr"
      }
    },
    {
      "cell_type": "code",
      "source": [
        "temp_bool = True\n",
        "temo_bool = False\n",
        "\n",
        "print(type(temp_bool))"
      ],
      "metadata": {
        "colab": {
          "base_uri": "https://localhost:8080/"
        },
        "id": "G0Fu1MdfkL90",
        "outputId": "588e8288-3098-4f2b-dc5c-80c9d25999f7"
      },
      "execution_count": 13,
      "outputs": [
        {
          "output_type": "stream",
          "name": "stdout",
          "text": [
            "<class 'bool'>\n"
          ]
        }
      ]
    },
    {
      "cell_type": "markdown",
      "source": [
        "### None 자료형\n",
        "- Null을 나타내는 자료형\n",
        "  + 데이터분석에서 갖방 처리하기 까다로운 자료형\n",
        "  "
      ],
      "metadata": {
        "id": "1PVyYP7lk69I"
      }
    },
    {
      "cell_type": "code",
      "source": [
        "temp_none = None\n",
        "print(type(temp_none))"
      ],
      "metadata": {
        "colab": {
          "base_uri": "https://localhost:8080/"
        },
        "id": "ey9zGzp2lU1O",
        "outputId": "cf05b6c3-f907-409c-a64a-52d3d14315d9"
      },
      "execution_count": 14,
      "outputs": [
        {
          "output_type": "stream",
          "name": "stdout",
          "text": [
            "<class 'NoneType'>\n"
          ]
        }
      ]
    },
    {
      "cell_type": "markdown",
      "source": [
        "## 사칙연산\n",
        "- 정수형 사칙연산\n"
      ],
      "metadata": {
        "id": "v2b6mgVVmUpu"
      }
    },
    {
      "cell_type": "code",
      "source": [
        "a=7\n",
        "b=2\n",
        "\n",
        "print(a+b)\n",
        "print(a-b)\n",
        "print(a*b)\n",
        "print(a/b) # 나누기\n",
        "print(a//b) \n",
        "print(a**b) # 제곱\n",
        "print (a%b) # 나머지"
      ],
      "metadata": {
        "colab": {
          "base_uri": "https://localhost:8080/"
        },
        "id": "VkFplzZpnLoG",
        "outputId": "885446c8-6a96-4bb5-8939-3896e65bb3d4"
      },
      "execution_count": 18,
      "outputs": [
        {
          "output_type": "stream",
          "name": "stdout",
          "text": [
            "9\n",
            "5\n",
            "14\n",
            "3.5\n",
            "3\n",
            "49\n",
            "1\n"
          ]
        }
      ]
    },
    {
      "cell_type": "markdown",
      "source": [
        "### 실수형 사직연산"
      ],
      "metadata": {
        "id": "GhED_fJefUOS"
      }
    },
    {
      "cell_type": "code",
      "source": [
        "a=6.0\n",
        "b=2.0\n",
        "\n",
        "print(a+b)\n",
        "print(a-b)\n",
        "print(a*b)\n",
        "print(a/b) # 나누기\n",
        "print(a//b) \n",
        "print(a**b) # 제곱\n",
        "print (a%b) # 나머지"
      ],
      "metadata": {
        "colab": {
          "base_uri": "https://localhost:8080/"
        },
        "id": "nKPR6ZI-rt1v",
        "outputId": "0f3b8256-6659-4e43-c8f2-3f99573cebdb"
      },
      "execution_count": 19,
      "outputs": [
        {
          "output_type": "stream",
          "name": "stdout",
          "text": [
            "8.0\n",
            "4.0\n",
            "12.0\n",
            "3.0\n",
            "3.0\n",
            "36.0\n",
            "0.0\n"
          ]
        }
      ]
    },
    {
      "cell_type": "markdown",
      "source": [
        "### 논리형 연산자\n",
        "- AND 조건, OR 조건이 있음"
      ],
      "metadata": {
        "id": "hEq1g88ZsJem"
      }
    },
    {
      "cell_type": "code",
      "source": [
        "print( True and True)\n",
        "print( True and False)\n",
        "print( False and True)\n",
        "print( False and False)\n",
        "\n"
      ],
      "metadata": {
        "colab": {
          "base_uri": "https://localhost:8080/"
        },
        "id": "ETH4h1_7tDDO",
        "outputId": "3f0cc721-ddda-4733-bb34-e88330744344"
      },
      "execution_count": 21,
      "outputs": [
        {
          "output_type": "stream",
          "name": "stdout",
          "text": [
            "True\n",
            "False\n",
            "False\n",
            "False\n"
          ]
        }
      ]
    },
    {
      "cell_type": "code",
      "source": [
        "print( True or True)\n",
        "print( True or False)\n",
        "print( False or True)\n",
        "print( False or False)"
      ],
      "metadata": {
        "colab": {
          "base_uri": "https://localhost:8080/"
        },
        "id": "9oKzbpg8tTKX",
        "outputId": "da2e21de-7c3d-4b56-ec0d-1c497d2d1dfd"
      },
      "execution_count": 22,
      "outputs": [
        {
          "output_type": "stream",
          "name": "stdout",
          "text": [
            "True\n",
            "True\n",
            "True\n",
            "False\n"
          ]
        }
      ]
    },
    {
      "cell_type": "markdown",
      "source": [
        "### 비교 연산자\n",
        "- 비교 연산자는 부등호를 의미함\n",
        "- 왼쪽이 기준 값"
      ],
      "metadata": {
        "id": "nH2A6w1PthL3"
      }
    },
    {
      "cell_type": "code",
      "source": [
        "print(4>3)\n",
        "print(3>4)\n",
        "print(3>=4)\n",
        "print(3<=4)\n"
      ],
      "metadata": {
        "colab": {
          "base_uri": "https://localhost:8080/"
        },
        "id": "_5PNnfr_tx1H",
        "outputId": "3653cd29-ce30-4cbe-8f32-e28425acb427"
      },
      "execution_count": 23,
      "outputs": [
        {
          "output_type": "stream",
          "name": "stdout",
          "text": [
            "True\n",
            "False\n",
            "False\n",
            "True\n"
          ]
        }
      ]
    },
    {
      "cell_type": "markdown",
      "source": [
        "## input()\n",
        "- print() : 출력\n",
        "- input() : 입력\n"
      ],
      "metadata": {
        "id": "EdmK8x0kuIsn"
      }
    },
    {
      "cell_type": "code",
      "source": [
        "var = input(\"값을 입력해주세요\")\n",
        "print(var)\n",
        "print(type(var))\n"
      ],
      "metadata": {
        "colab": {
          "base_uri": "https://localhost:8080/"
        },
        "id": "5vI1XDvRuT1Y",
        "outputId": "f166d6c8-b162-4d1d-ddf5-430d91caf26d"
      },
      "execution_count": 29,
      "outputs": [
        {
          "output_type": "stream",
          "name": "stdout",
          "text": [
            "값을 입력해주세요12\n",
            "12\n",
            "<class 'str'>\n"
          ]
        }
      ]
    },
    {
      "cell_type": "code",
      "source": [
        "num1 = input(\"값을 입력해주세요\")\n",
        "num2 = input(\"값을 입력해주세요\")\n",
        "\n",
        "result = int(num1) + int(num2)\n",
        "print( result)"
      ],
      "metadata": {
        "colab": {
          "base_uri": "https://localhost:8080/"
        },
        "id": "MDWiBVwmvSEo",
        "outputId": "32263f75-8c20-49ce-9e63-85485c9fbddc"
      },
      "execution_count": 30,
      "outputs": [
        {
          "output_type": "stream",
          "name": "stdout",
          "text": [
            "값을 입력해주세요5\n",
            "값을 입력해주세요5\n",
            "10\n"
          ]
        }
      ]
    },
    {
      "cell_type": "markdown",
      "source": [
        "## StRING\n",
        "- 매우 중요함!!!!!\n",
        "="
      ],
      "metadata": {
        "id": "2UTJ0Rhe0V0h"
      }
    },
    {
      "cell_type": "code",
      "source": [
        "str1=\"Hello\"\n",
        "str2 =\"World\"\n",
        "print(str1+str2)"
      ],
      "metadata": {
        "colab": {
          "base_uri": "https://localhost:8080/"
        },
        "id": "yXR2kCmC6Ckk",
        "outputId": "772d7838-09b0-4051-e869-909675c86d63"
      },
      "execution_count": 32,
      "outputs": [
        {
          "output_type": "stream",
          "name": "stdout",
          "text": [
            "HelloWorld\n"
          ]
        }
      ]
    },
    {
      "cell_type": "code",
      "source": [
        "str1 =\"55\"\n",
        "str2=\"1000\"\n",
        "print(int(str1)+int(str2))"
      ],
      "metadata": {
        "colab": {
          "base_uri": "https://localhost:8080/"
        },
        "id": "Y0zyEpjJ6Zub",
        "outputId": "a79af8f8-1da4-4a7e-ce27-4816661c1e8e"
      },
      "execution_count": 35,
      "outputs": [
        {
          "output_type": "stream",
          "name": "stdout",
          "text": [
            "1055\n"
          ]
        }
      ]
    },
    {
      "cell_type": "markdown",
      "source": [
        "- 곱셈 연산자 사용"
      ],
      "metadata": {
        "id": "3K5lHZiQ693D"
      }
    },
    {
      "cell_type": "code",
      "source": [
        "greeting = \" Hello World\"\n",
        "print (greeting *3)"
      ],
      "metadata": {
        "colab": {
          "base_uri": "https://localhost:8080/"
        },
        "id": "sAkq00ku7BhN",
        "outputId": "4eee3de4-e462-4052-8a05-105ff1bdbd29"
      },
      "execution_count": 36,
      "outputs": [
        {
          "output_type": "stream",
          "name": "stdout",
          "text": [
            " Hello World Hello World Hello World\n"
          ]
        }
      ]
    },
    {
      "cell_type": "markdown",
      "source": [
        "### Indexing\n",
        "- 중요!!\n",
        "- 0번째부터 시작\n"
      ],
      "metadata": {
        "id": "8ingy_Ar7bc7"
      }
    },
    {
      "cell_type": "code",
      "source": [
        "greeting = \"Hello World!\"\n",
        "print(greeting[-1])"
      ],
      "metadata": {
        "colab": {
          "base_uri": "https://localhost:8080/"
        },
        "id": "oI-vKVJF7lxb",
        "outputId": "88145778-6cf6-42de-d175-5c11cf2a33a4"
      },
      "execution_count": 39,
      "outputs": [
        {
          "output_type": "stream",
          "name": "stdout",
          "text": [
            "!\n"
          ]
        }
      ]
    },
    {
      "cell_type": "code",
      "source": [
        "greeting = \"Hello World!\"\n",
        "print(greeting[0:5])\n",
        "print(greeting[:])\n",
        "print(greeting[6:])\n",
        "print(greeting[3:9])\n",
        "print(greeting[0:9:2])\n"
      ],
      "metadata": {
        "colab": {
          "base_uri": "https://localhost:8080/"
        },
        "id": "hTmciH758t0d",
        "outputId": "b94abb76-92b8-4cb1-d0ec-a4d178b1c330"
      },
      "execution_count": 42,
      "outputs": [
        {
          "output_type": "stream",
          "name": "stdout",
          "text": [
            "Hello\n",
            "Hello World!\n",
            "World!\n",
            "lo Wor\n",
            "HloWr\n"
          ]
        }
      ]
    },
    {
      "cell_type": "code",
      "source": [
        "greeting = \"Hello World!\"\n",
        "print(greeting[12])"
      ],
      "metadata": {
        "colab": {
          "base_uri": "https://localhost:8080/",
          "height": 193
        },
        "id": "w-Hs9cXB-yP1",
        "outputId": "0003edb2-ecf1-4a33-f098-a2dd61070741"
      },
      "execution_count": 44,
      "outputs": [
        {
          "output_type": "error",
          "ename": "IndexError",
          "evalue": "ignored",
          "traceback": [
            "\u001b[0;31m---------------------------------------------------------------------------\u001b[0m",
            "\u001b[0;31mIndexError\u001b[0m                                Traceback (most recent call last)",
            "\u001b[0;32m<ipython-input-44-33a916c5ebf9>\u001b[0m in \u001b[0;36m<module>\u001b[0;34m\u001b[0m\n\u001b[1;32m      1\u001b[0m \u001b[0mgreeting\u001b[0m \u001b[0;34m=\u001b[0m \u001b[0;34m\"Hello World!\"\u001b[0m\u001b[0;34m\u001b[0m\u001b[0;34m\u001b[0m\u001b[0m\n\u001b[0;32m----> 2\u001b[0;31m \u001b[0mprint\u001b[0m\u001b[0;34m(\u001b[0m\u001b[0mgreeting\u001b[0m\u001b[0;34m[\u001b[0m\u001b[0;36m12\u001b[0m\u001b[0;34m]\u001b[0m\u001b[0;34m)\u001b[0m\u001b[0;34m\u001b[0m\u001b[0;34m\u001b[0m\u001b[0m\n\u001b[0m",
            "\u001b[0;31mIndexError\u001b[0m: string index out of range"
          ]
        }
      ]
    },
    {
      "cell_type": "markdown",
      "source": [
        "### 문장열의 함수들\n",
        "- 공식문서!"
      ],
      "metadata": {
        "id": "t4HMZJJl_uaG"
      }
    },
    {
      "cell_type": "markdown",
      "source": [
        "### 숙제"
      ],
      "metadata": {
        "id": "E2_tYwZTDg1G"
      }
    },
    {
      "cell_type": "markdown",
      "source": [
        "### 슬라이싱\n",
        "- 자름"
      ],
      "metadata": {
        "id": "ygi7Pv8W8ekL"
      }
    },
    {
      "cell_type": "code",
      "source": [
        "\"Hello World\"\n"
      ],
      "metadata": {
        "colab": {
          "base_uri": "https://localhost:8080/",
          "height": 35
        },
        "id": "j1BpfFllDobt",
        "outputId": "1043c65a-da58-46dd-843d-dddfaae3a03e"
      },
      "execution_count": 45,
      "outputs": [
        {
          "output_type": "execute_result",
          "data": {
            "text/plain": [
              "'Hello World'"
            ],
            "application/vnd.google.colaboratory.intrinsic+json": {
              "type": "string"
            }
          },
          "metadata": {},
          "execution_count": 45
        }
      ]
    },
    {
      "cell_type": "code",
      "source": [
        "'Python is fun'"
      ],
      "metadata": {
        "colab": {
          "base_uri": "https://localhost:8080/",
          "height": 35
        },
        "id": "xmRatDxZGfvP",
        "outputId": "d859b825-6707-4ff1-ac3a-b098b5b3cae5"
      },
      "execution_count": 46,
      "outputs": [
        {
          "output_type": "execute_result",
          "data": {
            "text/plain": [
              "'Python is fun'"
            ],
            "application/vnd.google.colaboratory.intrinsic+json": {
              "type": "string"
            }
          },
          "metadata": {},
          "execution_count": 46
        }
      ]
    },
    {
      "cell_type": "code",
      "source": [
        "\"\"\"Life is too short, You need python\"\"\""
      ],
      "metadata": {
        "colab": {
          "base_uri": "https://localhost:8080/",
          "height": 35
        },
        "id": "36hq28XXGicX",
        "outputId": "b6a9da32-aaca-4115-c503-eb81de20d53a"
      },
      "execution_count": 47,
      "outputs": [
        {
          "output_type": "execute_result",
          "data": {
            "text/plain": [
              "'Life is too short, You need python'"
            ],
            "application/vnd.google.colaboratory.intrinsic+json": {
              "type": "string"
            }
          },
          "metadata": {},
          "execution_count": 47
        }
      ]
    },
    {
      "cell_type": "code",
      "source": [
        "'''Life is too short, You need python'''"
      ],
      "metadata": {
        "colab": {
          "base_uri": "https://localhost:8080/",
          "height": 35
        },
        "id": "88MctfRWGo0f",
        "outputId": "6965cc59-1bfd-4f96-c0b6-692542480a86"
      },
      "execution_count": 48,
      "outputs": [
        {
          "output_type": "execute_result",
          "data": {
            "text/plain": [
              "'Life is too short, You need python'"
            ],
            "application/vnd.google.colaboratory.intrinsic+json": {
              "type": "string"
            }
          },
          "metadata": {},
          "execution_count": 48
        }
      ]
    },
    {
      "cell_type": "code",
      "source": [
        ">>> food = \"Python's favorite food is perl\""
      ],
      "metadata": {
        "id": "Ls-S9ubVGuC4"
      },
      "execution_count": 50,
      "outputs": []
    },
    {
      "cell_type": "code",
      "source": [
        ">>> food"
      ],
      "metadata": {
        "colab": {
          "base_uri": "https://localhost:8080/",
          "height": 35
        },
        "id": "ZvZ0zxNKG_fn",
        "outputId": "52c77e67-cf01-481a-a3b9-0947a8335f40"
      },
      "execution_count": 51,
      "outputs": [
        {
          "output_type": "execute_result",
          "data": {
            "text/plain": [
              "\"Python's favorite food is perl\""
            ],
            "application/vnd.google.colaboratory.intrinsic+json": {
              "type": "string"
            }
          },
          "metadata": {},
          "execution_count": 51
        }
      ]
    },
    {
      "cell_type": "code",
      "source": [
        ">>> food = 'Python's favorite food is perl'\n",
        "  File \"<stdin>\", line 1\n",
        "    food = 'Python's favorite food is perl'"
      ],
      "metadata": {
        "colab": {
          "base_uri": "https://localhost:8080/",
          "height": 137
        },
        "id": "XpU911irHKGP",
        "outputId": "4f3b21cf-a759-4276-f57d-328b7389364d"
      },
      "execution_count": 52,
      "outputs": [
        {
          "output_type": "error",
          "ename": "SyntaxError",
          "evalue": "ignored",
          "traceback": [
            "\u001b[0;36m  File \u001b[0;32m\"<ipython-input-52-e69402dcf384>\"\u001b[0;36m, line \u001b[0;32m1\u001b[0m\n\u001b[0;31m    food = 'Python's favorite food is perl'\u001b[0m\n\u001b[0m                   ^\u001b[0m\n\u001b[0;31mSyntaxError\u001b[0m\u001b[0;31m:\u001b[0m invalid syntax\n"
          ]
        }
      ]
    },
    {
      "cell_type": "code",
      "source": [],
      "metadata": {
        "id": "N-8D3a6AHo0e"
      },
      "execution_count": null,
      "outputs": []
    },
    {
      "cell_type": "code",
      "source": [
        "\"Python is very easy.\" he says."
      ],
      "metadata": {
        "colab": {
          "base_uri": "https://localhost:8080/",
          "height": 137
        },
        "id": "V2zDCpIBHZGf",
        "outputId": "121ac932-b55a-4f43-c396-577505524b44"
      },
      "execution_count": 53,
      "outputs": [
        {
          "output_type": "error",
          "ename": "SyntaxError",
          "evalue": "ignored",
          "traceback": [
            "\u001b[0;36m  File \u001b[0;32m\"<ipython-input-53-f87acc609a0a>\"\u001b[0;36m, line \u001b[0;32m1\u001b[0m\n\u001b[0;31m    \"Python is very easy.\" he says.\u001b[0m\n\u001b[0m                           ^\u001b[0m\n\u001b[0;31mSyntaxError\u001b[0m\u001b[0;31m:\u001b[0m invalid syntax\n"
          ]
        }
      ]
    },
    {
      "cell_type": "code",
      "source": [
        "say = '\"Python is very easy.\" he says.'"
      ],
      "metadata": {
        "id": "0rJnzX8NHe9u"
      },
      "execution_count": 55,
      "outputs": []
    },
    {
      "cell_type": "code",
      "source": [
        "food = 'Python\\'s favorite food is perl'"
      ],
      "metadata": {
        "id": "saUqnLzlHqRn"
      },
      "execution_count": 56,
      "outputs": []
    },
    {
      "cell_type": "code",
      "source": [
        "say = \"\\\"Python is very easy.\\\" he says.\""
      ],
      "metadata": {
        "id": "5fRBxkVCHurk"
      },
      "execution_count": 57,
      "outputs": []
    },
    {
      "cell_type": "code",
      "source": [
        "multiline = \"Life is too short\\nYou need python\""
      ],
      "metadata": {
        "id": "MwARtMI-H0AX"
      },
      "execution_count": 58,
      "outputs": []
    },
    {
      "cell_type": "code",
      "source": [
        "multiline='''\n",
        "... Life is too short\n",
        "... You need python\n",
        "... '''"
      ],
      "metadata": {
        "id": "5Qk6wcyEH6FP"
      },
      "execution_count": 59,
      "outputs": []
    },
    {
      "cell_type": "code",
      "source": [
        "multiline=\"\"\"\n",
        "... Life is too short\n",
        "... You need python\n",
        "... \"\"\""
      ],
      "metadata": {
        "id": "2aNJt812IAf_"
      },
      "execution_count": 60,
      "outputs": []
    },
    {
      "cell_type": "code",
      "source": [
        "print(multiline)"
      ],
      "metadata": {
        "colab": {
          "base_uri": "https://localhost:8080/"
        },
        "id": "RBtJJm-BIDqf",
        "outputId": "b30f9562-98c5-4370-8606-081f0f9bbca5"
      },
      "execution_count": 61,
      "outputs": [
        {
          "output_type": "stream",
          "name": "stdout",
          "text": [
            "\n",
            "Life is too short\n",
            "You need python\n",
            "\n"
          ]
        }
      ]
    },
    {
      "cell_type": "code",
      "source": [
        " head = \"Python\"\n",
        " tail = \" is fun!\"\n",
        " head + tail"
      ],
      "metadata": {
        "colab": {
          "base_uri": "https://localhost:8080/",
          "height": 35
        },
        "id": "8TTyGpnJIbk3",
        "outputId": "649fd41c-d549-40e8-b28e-939bef0a735b"
      },
      "execution_count": 63,
      "outputs": [
        {
          "output_type": "execute_result",
          "data": {
            "text/plain": [
              "'Python is fun!'"
            ],
            "application/vnd.google.colaboratory.intrinsic+json": {
              "type": "string"
            }
          },
          "metadata": {},
          "execution_count": 63
        }
      ]
    },
    {
      "cell_type": "code",
      "source": [
        "a = \"python\"\n",
        "a * 2"
      ],
      "metadata": {
        "colab": {
          "base_uri": "https://localhost:8080/",
          "height": 35
        },
        "id": "mQrCgRJlImTn",
        "outputId": "ab9d3ad9-afdf-4848-e47b-2006ee5c7bca"
      },
      "execution_count": 64,
      "outputs": [
        {
          "output_type": "execute_result",
          "data": {
            "text/plain": [
              "'pythonpython'"
            ],
            "application/vnd.google.colaboratory.intrinsic+json": {
              "type": "string"
            }
          },
          "metadata": {},
          "execution_count": 64
        }
      ]
    },
    {
      "cell_type": "code",
      "source": [
        "print(\"=\" * 50)\n",
        "print(\"My Program\")\n",
        "print(\"=\" * 50)"
      ],
      "metadata": {
        "colab": {
          "base_uri": "https://localhost:8080/"
        },
        "id": "I1TwuFXdIzk3",
        "outputId": "afe97e14-4aa2-4044-feec-f614b4123da2"
      },
      "execution_count": 65,
      "outputs": [
        {
          "output_type": "stream",
          "name": "stdout",
          "text": [
            "==================================================\n",
            "My Program\n",
            "==================================================\n"
          ]
        }
      ]
    },
    {
      "cell_type": "code",
      "source": [
        "a = \"Life is too short\"\n",
        "len(a)"
      ],
      "metadata": {
        "colab": {
          "base_uri": "https://localhost:8080/"
        },
        "id": "qwmsijFNI8iH",
        "outputId": "7c37a3a1-8b4e-419b-ddc7-cc5e9ca3e7d9"
      },
      "execution_count": 66,
      "outputs": [
        {
          "output_type": "execute_result",
          "data": {
            "text/plain": [
              "17"
            ]
          },
          "metadata": {},
          "execution_count": 66
        }
      ]
    },
    {
      "cell_type": "code",
      "source": [
        "a = \"Life is too short, You need Python\""
      ],
      "metadata": {
        "id": "YthvjwK-JBSz"
      },
      "execution_count": 67,
      "outputs": []
    },
    {
      "cell_type": "code",
      "source": [
        "a = \"Life is too short, You need Python\"\n",
        "a[3]"
      ],
      "metadata": {
        "colab": {
          "base_uri": "https://localhost:8080/",
          "height": 35
        },
        "id": "UB_Y3udcJFNP",
        "outputId": "9c9a3c06-9df2-4cc0-cee2-ea5b634766ab"
      },
      "execution_count": 68,
      "outputs": [
        {
          "output_type": "execute_result",
          "data": {
            "text/plain": [
              "'e'"
            ],
            "application/vnd.google.colaboratory.intrinsic+json": {
              "type": "string"
            }
          },
          "metadata": {},
          "execution_count": 68
        }
      ]
    },
    {
      "cell_type": "code",
      "source": [
        "a[0], a[1], a[2], a[3], a[4]"
      ],
      "metadata": {
        "colab": {
          "base_uri": "https://localhost:8080/"
        },
        "id": "zLKUsA_NJMdH",
        "outputId": "f89e7748-26b8-4bd2-9bba-df620d9f7337"
      },
      "execution_count": 70,
      "outputs": [
        {
          "output_type": "execute_result",
          "data": {
            "text/plain": [
              "('L', 'i', 'f', 'e', ' ')"
            ]
          },
          "metadata": {},
          "execution_count": 70
        }
      ]
    },
    {
      "cell_type": "code",
      "source": [
        "a = \"Life is too short, You need Python\"\n",
        "a[0]\n",
        "a[12]\n",
        "a[-1]\n"
      ],
      "metadata": {
        "colab": {
          "base_uri": "https://localhost:8080/",
          "height": 35
        },
        "id": "T6uSeo_jJXJP",
        "outputId": "0aaf6a1f-78f5-4254-ae06-e330a2612ff0"
      },
      "execution_count": 71,
      "outputs": [
        {
          "output_type": "execute_result",
          "data": {
            "text/plain": [
              "'n'"
            ],
            "application/vnd.google.colaboratory.intrinsic+json": {
              "type": "string"
            }
          },
          "metadata": {},
          "execution_count": 71
        }
      ]
    },
    {
      "cell_type": "code",
      "source": [
        "a[-0]"
      ],
      "metadata": {
        "colab": {
          "base_uri": "https://localhost:8080/",
          "height": 35
        },
        "id": "NsK4-83rJs0I",
        "outputId": "bb5e4ef3-386d-4186-89d3-a45e6344dd28"
      },
      "execution_count": 72,
      "outputs": [
        {
          "output_type": "execute_result",
          "data": {
            "text/plain": [
              "'L'"
            ],
            "application/vnd.google.colaboratory.intrinsic+json": {
              "type": "string"
            }
          },
          "metadata": {},
          "execution_count": 72
        }
      ]
    },
    {
      "cell_type": "code",
      "source": [
        "a[-2]"
      ],
      "metadata": {
        "colab": {
          "base_uri": "https://localhost:8080/",
          "height": 35
        },
        "id": "uUVPL3s_Jzpx",
        "outputId": "18c68c8e-242a-47c8-8eaf-e0e3442fde43"
      },
      "execution_count": 73,
      "outputs": [
        {
          "output_type": "execute_result",
          "data": {
            "text/plain": [
              "'o'"
            ],
            "application/vnd.google.colaboratory.intrinsic+json": {
              "type": "string"
            }
          },
          "metadata": {},
          "execution_count": 73
        }
      ]
    },
    {
      "cell_type": "code",
      "source": [
        "a[-5]"
      ],
      "metadata": {
        "colab": {
          "base_uri": "https://localhost:8080/",
          "height": 35
        },
        "id": "E39oPbn_J2TJ",
        "outputId": "6b6800e8-0545-4d24-bab7-6f1c2812bb77"
      },
      "execution_count": 74,
      "outputs": [
        {
          "output_type": "execute_result",
          "data": {
            "text/plain": [
              "'y'"
            ],
            "application/vnd.google.colaboratory.intrinsic+json": {
              "type": "string"
            }
          },
          "metadata": {},
          "execution_count": 74
        }
      ]
    },
    {
      "cell_type": "markdown",
      "source": [],
      "metadata": {
        "id": "V-o_461_J6yA"
      }
    },
    {
      "cell_type": "markdown",
      "source": [],
      "metadata": {
        "id": "kVAa45gvJ7Gw"
      }
    },
    {
      "cell_type": "code",
      "source": [
        "a = \"Life is too short, You need Python\""
      ],
      "metadata": {
        "id": "ecB_QNhyJ7SJ"
      },
      "execution_count": 75,
      "outputs": []
    },
    {
      "cell_type": "code",
      "source": [
        "b = a[0] + a[1] + a[2] + a[3]"
      ],
      "metadata": {
        "id": "T7u4PyhGJ-o4"
      },
      "execution_count": 76,
      "outputs": []
    },
    {
      "cell_type": "code",
      "source": [
        "a[0:4]"
      ],
      "metadata": {
        "colab": {
          "base_uri": "https://localhost:8080/",
          "height": 35
        },
        "id": "MK9HNNHPKCna",
        "outputId": "91843a14-1c8e-4a9d-920e-869055f007da"
      },
      "execution_count": 77,
      "outputs": [
        {
          "output_type": "execute_result",
          "data": {
            "text/plain": [
              "'Life'"
            ],
            "application/vnd.google.colaboratory.intrinsic+json": {
              "type": "string"
            }
          },
          "metadata": {},
          "execution_count": 77
        }
      ]
    },
    {
      "cell_type": "markdown",
      "source": [],
      "metadata": {
        "id": "uW0YrMj_urvH"
      }
    },
    {
      "cell_type": "code",
      "source": [
        " a[19:]"
      ],
      "metadata": {
        "colab": {
          "base_uri": "https://localhost:8080/",
          "height": 35
        },
        "id": "5cRMdwV6KQ3w",
        "outputId": "b09fdeed-36b3-4701-d6d2-248b3458c849"
      },
      "execution_count": 79,
      "outputs": [
        {
          "output_type": "execute_result",
          "data": {
            "text/plain": [
              "'You need Python'"
            ],
            "application/vnd.google.colaboratory.intrinsic+json": {
              "type": "string"
            }
          },
          "metadata": {},
          "execution_count": 79
        }
      ]
    },
    {
      "cell_type": "code",
      "source": [
        "a[:17]"
      ],
      "metadata": {
        "colab": {
          "base_uri": "https://localhost:8080/",
          "height": 35
        },
        "id": "D6jw4UStKUV3",
        "outputId": "80e3cbbe-64bc-477e-b67e-023c79a10b39"
      },
      "execution_count": 80,
      "outputs": [
        {
          "output_type": "execute_result",
          "data": {
            "text/plain": [
              "'Life is too short'"
            ],
            "application/vnd.google.colaboratory.intrinsic+json": {
              "type": "string"
            }
          },
          "metadata": {},
          "execution_count": 80
        }
      ]
    },
    {
      "cell_type": "code",
      "source": [
        "a[:]"
      ],
      "metadata": {
        "colab": {
          "base_uri": "https://localhost:8080/",
          "height": 35
        },
        "id": "gAI82m0CKXi5",
        "outputId": "5a7ee9a3-9215-498d-b613-c49ed209df68"
      },
      "execution_count": 82,
      "outputs": [
        {
          "output_type": "execute_result",
          "data": {
            "text/plain": [
              "'Life is too short, You need Python'"
            ],
            "application/vnd.google.colaboratory.intrinsic+json": {
              "type": "string"
            }
          },
          "metadata": {},
          "execution_count": 82
        }
      ]
    },
    {
      "cell_type": "code",
      "source": [
        "a[19:-7]"
      ],
      "metadata": {
        "colab": {
          "base_uri": "https://localhost:8080/",
          "height": 35
        },
        "id": "8V7y4YMZKeQQ",
        "outputId": "4e6ffedb-e98e-4266-9c81-96d5e0b72e69"
      },
      "execution_count": 83,
      "outputs": [
        {
          "output_type": "execute_result",
          "data": {
            "text/plain": [
              "'You need'"
            ],
            "application/vnd.google.colaboratory.intrinsic+json": {
              "type": "string"
            }
          },
          "metadata": {},
          "execution_count": 83
        }
      ]
    },
    {
      "cell_type": "code",
      "source": [
        "a = \"20010331Rainy\"\n",
        "date = a[:8]\n",
        "weather = a[8:]\n",
        "date"
      ],
      "metadata": {
        "colab": {
          "base_uri": "https://localhost:8080/",
          "height": 35
        },
        "id": "tfV5qad_KhCa",
        "outputId": "ada0f77f-ce9c-4654-abd0-dbd460ba8009"
      },
      "execution_count": 84,
      "outputs": [
        {
          "output_type": "execute_result",
          "data": {
            "text/plain": [
              "'20010331'"
            ],
            "application/vnd.google.colaboratory.intrinsic+json": {
              "type": "string"
            }
          },
          "metadata": {},
          "execution_count": 84
        }
      ]
    },
    {
      "cell_type": "code",
      "source": [
        "weather"
      ],
      "metadata": {
        "colab": {
          "base_uri": "https://localhost:8080/",
          "height": 35
        },
        "id": "veV9vGJqKpxo",
        "outputId": "d96b1f7b-4b8e-485e-a12f-8829cd0551dc"
      },
      "execution_count": 85,
      "outputs": [
        {
          "output_type": "execute_result",
          "data": {
            "text/plain": [
              "'Rainy'"
            ],
            "application/vnd.google.colaboratory.intrinsic+json": {
              "type": "string"
            }
          },
          "metadata": {},
          "execution_count": 85
        }
      ]
    },
    {
      "cell_type": "code",
      "source": [
        "\"I eat %d apples.\" % 3"
      ],
      "metadata": {
        "colab": {
          "base_uri": "https://localhost:8080/",
          "height": 35
        },
        "id": "LF24sh8JK-JB",
        "outputId": "401a4401-9f74-44c4-e5b1-ddee132e5378"
      },
      "execution_count": 86,
      "outputs": [
        {
          "output_type": "execute_result",
          "data": {
            "text/plain": [
              "'I eat 3 apples.'"
            ],
            "application/vnd.google.colaboratory.intrinsic+json": {
              "type": "string"
            }
          },
          "metadata": {},
          "execution_count": 86
        }
      ]
    },
    {
      "cell_type": "code",
      "source": [
        "\"I eat %s apples.\" % \"five\""
      ],
      "metadata": {
        "colab": {
          "base_uri": "https://localhost:8080/",
          "height": 35
        },
        "id": "2TSw1tFQLBzQ",
        "outputId": "155bff43-ee44-4e8a-d0a9-985f55954c01"
      },
      "execution_count": 87,
      "outputs": [
        {
          "output_type": "execute_result",
          "data": {
            "text/plain": [
              "'I eat five apples.'"
            ],
            "application/vnd.google.colaboratory.intrinsic+json": {
              "type": "string"
            }
          },
          "metadata": {},
          "execution_count": 87
        }
      ]
    },
    {
      "cell_type": "code",
      "source": [
        "number = 3\n",
        "\"I eat %d apples.\" % number"
      ],
      "metadata": {
        "colab": {
          "base_uri": "https://localhost:8080/",
          "height": 35
        },
        "id": "a-prxOBxLHCY",
        "outputId": "7c98ba7e-ac40-4a11-ee8a-80f180148c01"
      },
      "execution_count": 88,
      "outputs": [
        {
          "output_type": "execute_result",
          "data": {
            "text/plain": [
              "'I eat 3 apples.'"
            ],
            "application/vnd.google.colaboratory.intrinsic+json": {
              "type": "string"
            }
          },
          "metadata": {},
          "execution_count": 88
        }
      ]
    },
    {
      "cell_type": "code",
      "source": [
        "number = 10\n",
        "day = \"three\"\n",
        "\"I ate %d apples. so I was sick for %s days.\" % (number, day)"
      ],
      "metadata": {
        "colab": {
          "base_uri": "https://localhost:8080/",
          "height": 35
        },
        "id": "Tc0NKwBSLNAs",
        "outputId": "a9b67b34-f4fd-4f2a-ef7d-9973c10c3988"
      },
      "execution_count": 105,
      "outputs": [
        {
          "output_type": "execute_result",
          "data": {
            "text/plain": [
              "'I ate 10 apples. so I was sick for three days.'"
            ],
            "application/vnd.google.colaboratory.intrinsic+json": {
              "type": "string"
            }
          },
          "metadata": {},
          "execution_count": 105
        }
      ]
    },
    {
      "cell_type": "code",
      "source": [],
      "metadata": {
        "id": "ZWMtb5kcNhZS"
      },
      "execution_count": null,
      "outputs": []
    },
    {
      "cell_type": "code",
      "source": [],
      "metadata": {
        "id": "RdOceJ9zNiMi"
      },
      "execution_count": null,
      "outputs": []
    },
    {
      "cell_type": "code",
      "source": [],
      "metadata": {
        "id": "u4UpohNkMIPh"
      },
      "execution_count": null,
      "outputs": []
    },
    {
      "cell_type": "code",
      "source": [
        " \"I have %s apples\" % 3"
      ],
      "metadata": {
        "colab": {
          "base_uri": "https://localhost:8080/",
          "height": 35
        },
        "id": "V7iZqbbaLlpo",
        "outputId": "1c8b63c8-de5f-457d-bf51-5be5220dc8c0"
      },
      "execution_count": 90,
      "outputs": [
        {
          "output_type": "execute_result",
          "data": {
            "text/plain": [
              "'I have 3 apples'"
            ],
            "application/vnd.google.colaboratory.intrinsic+json": {
              "type": "string"
            }
          },
          "metadata": {},
          "execution_count": 90
        }
      ]
    },
    {
      "cell_type": "code",
      "source": [
        "\"rate is %s\" % 3.234"
      ],
      "metadata": {
        "colab": {
          "base_uri": "https://localhost:8080/",
          "height": 35
        },
        "id": "iKv1gikOLolB",
        "outputId": "917b9f33-8500-4b4e-f284-faa2dcabffb7"
      },
      "execution_count": 91,
      "outputs": [
        {
          "output_type": "execute_result",
          "data": {
            "text/plain": [
              "'rate is 3.234'"
            ],
            "application/vnd.google.colaboratory.intrinsic+json": {
              "type": "string"
            }
          },
          "metadata": {},
          "execution_count": 91
        }
      ]
    },
    {
      "cell_type": "code",
      "source": [
        " \"%10s\" % \"hi\""
      ],
      "metadata": {
        "colab": {
          "base_uri": "https://localhost:8080/",
          "height": 35
        },
        "id": "WpVTCAplMJcJ",
        "outputId": "c1efe47c-9dcb-442b-b283-0ff206073131"
      },
      "execution_count": 92,
      "outputs": [
        {
          "output_type": "execute_result",
          "data": {
            "text/plain": [
              "'        hi'"
            ],
            "application/vnd.google.colaboratory.intrinsic+json": {
              "type": "string"
            }
          },
          "metadata": {},
          "execution_count": 92
        }
      ]
    },
    {
      "cell_type": "code",
      "source": [
        " \"%-10sjane.\" % 'hi'"
      ],
      "metadata": {
        "colab": {
          "base_uri": "https://localhost:8080/",
          "height": 35
        },
        "id": "wHGmRWKpMNx5",
        "outputId": "38ec6932-c2f0-4621-9a8b-ee28d0307bbf"
      },
      "execution_count": 93,
      "outputs": [
        {
          "output_type": "execute_result",
          "data": {
            "text/plain": [
              "'hi        jane.'"
            ],
            "application/vnd.google.colaboratory.intrinsic+json": {
              "type": "string"
            }
          },
          "metadata": {},
          "execution_count": 93
        }
      ]
    },
    {
      "cell_type": "code",
      "source": [
        "\"%10.4f\" % 3.42134234"
      ],
      "metadata": {
        "colab": {
          "base_uri": "https://localhost:8080/",
          "height": 35
        },
        "id": "osPD6drgMWGB",
        "outputId": "f0efabca-ff43-439e-f15f-30d139d87b81"
      },
      "execution_count": 94,
      "outputs": [
        {
          "output_type": "execute_result",
          "data": {
            "text/plain": [
              "'    3.4213'"
            ],
            "application/vnd.google.colaboratory.intrinsic+json": {
              "type": "string"
            }
          },
          "metadata": {},
          "execution_count": 94
        }
      ]
    },
    {
      "cell_type": "code",
      "source": [
        "\"I eat {0} apples\".format(3)"
      ],
      "metadata": {
        "colab": {
          "base_uri": "https://localhost:8080/",
          "height": 35
        },
        "id": "-wooOXgGMceR",
        "outputId": "c3a4b676-a643-4d70-9250-6d05d776a244"
      },
      "execution_count": 95,
      "outputs": [
        {
          "output_type": "execute_result",
          "data": {
            "text/plain": [
              "'I eat 3 apples'"
            ],
            "application/vnd.google.colaboratory.intrinsic+json": {
              "type": "string"
            }
          },
          "metadata": {},
          "execution_count": 95
        }
      ]
    },
    {
      "cell_type": "code",
      "source": [
        "\"I eat {0} apples\".format(\"five\")"
      ],
      "metadata": {
        "colab": {
          "base_uri": "https://localhost:8080/",
          "height": 35
        },
        "id": "reL4OjgeMfoq",
        "outputId": "32da85e0-db7b-4383-a406-2af96ca2dae6"
      },
      "execution_count": 96,
      "outputs": [
        {
          "output_type": "execute_result",
          "data": {
            "text/plain": [
              "'I eat five apples'"
            ],
            "application/vnd.google.colaboratory.intrinsic+json": {
              "type": "string"
            }
          },
          "metadata": {},
          "execution_count": 96
        }
      ]
    },
    {
      "cell_type": "code",
      "source": [
        "number = 3\n",
        "\"I eat {0} apples\".format(number)"
      ],
      "metadata": {
        "colab": {
          "base_uri": "https://localhost:8080/",
          "height": 35
        },
        "id": "JZz-zspLMlM6",
        "outputId": "621cbfb9-ae29-4b44-8490-6bc00c516405"
      },
      "execution_count": 97,
      "outputs": [
        {
          "output_type": "execute_result",
          "data": {
            "text/plain": [
              "'I eat 3 apples'"
            ],
            "application/vnd.google.colaboratory.intrinsic+json": {
              "type": "string"
            }
          },
          "metadata": {},
          "execution_count": 97
        }
      ]
    },
    {
      "cell_type": "code",
      "source": [
        "\"I eat {0} apples\".format(number)\n",
        "day = \"three\"\n",
        "\"I ate {0} apples. so I was sick for {1} days.\".format(number, day)"
      ],
      "metadata": {
        "colab": {
          "base_uri": "https://localhost:8080/",
          "height": 35
        },
        "id": "PdKBao99MslR",
        "outputId": "ce39b60f-790b-4be5-e142-77149275d9b9"
      },
      "execution_count": 98,
      "outputs": [
        {
          "output_type": "execute_result",
          "data": {
            "text/plain": [
              "'I ate 3 apples. so I was sick for three days.'"
            ],
            "application/vnd.google.colaboratory.intrinsic+json": {
              "type": "string"
            }
          },
          "metadata": {},
          "execution_count": 98
        }
      ]
    },
    {
      "cell_type": "code",
      "source": [
        "\"I ate {number} apples. so I was sick for {day} days.\".format(number=10, day=3)"
      ],
      "metadata": {
        "colab": {
          "base_uri": "https://localhost:8080/",
          "height": 35
        },
        "id": "zhELHPlIM3Tx",
        "outputId": "096fac0f-36bd-4841-fd92-0709b186139c"
      },
      "execution_count": 99,
      "outputs": [
        {
          "output_type": "execute_result",
          "data": {
            "text/plain": [
              "'I ate 10 apples. so I was sick for 3 days.'"
            ],
            "application/vnd.google.colaboratory.intrinsic+json": {
              "type": "string"
            }
          },
          "metadata": {},
          "execution_count": 99
        }
      ]
    },
    {
      "cell_type": "code",
      "source": [
        "\"I ate {0} apples. so I was sick for {day} days.\".format(10, day=3)"
      ],
      "metadata": {
        "colab": {
          "base_uri": "https://localhost:8080/",
          "height": 35
        },
        "id": "vYiNYM0ZM7Si",
        "outputId": "5a76922b-8632-423e-c138-6fa3bd23a0cf"
      },
      "execution_count": 100,
      "outputs": [
        {
          "output_type": "execute_result",
          "data": {
            "text/plain": [
              "'I ate 10 apples. so I was sick for 3 days.'"
            ],
            "application/vnd.google.colaboratory.intrinsic+json": {
              "type": "string"
            }
          },
          "metadata": {},
          "execution_count": 100
        }
      ]
    },
    {
      "cell_type": "code",
      "source": [
        "\"{0:<10}\".format(\"hi\")"
      ],
      "metadata": {
        "colab": {
          "base_uri": "https://localhost:8080/",
          "height": 35
        },
        "id": "gHeg5fupM-RT",
        "outputId": "6e92e0e2-2bb9-4e6e-9d6e-da1a97d2b6c2"
      },
      "execution_count": 101,
      "outputs": [
        {
          "output_type": "execute_result",
          "data": {
            "text/plain": [
              "'hi        '"
            ],
            "application/vnd.google.colaboratory.intrinsic+json": {
              "type": "string"
            }
          },
          "metadata": {},
          "execution_count": 101
        }
      ]
    },
    {
      "cell_type": "code",
      "source": [
        "\"{0:>10}\".format(\"hi\")"
      ],
      "metadata": {
        "colab": {
          "base_uri": "https://localhost:8080/",
          "height": 35
        },
        "id": "LH_PfNSkNMTR",
        "outputId": "d2aecc62-780b-4af6-9960-6facfef9748f"
      },
      "execution_count": 102,
      "outputs": [
        {
          "output_type": "execute_result",
          "data": {
            "text/plain": [
              "'        hi'"
            ],
            "application/vnd.google.colaboratory.intrinsic+json": {
              "type": "string"
            }
          },
          "metadata": {},
          "execution_count": 102
        }
      ]
    },
    {
      "cell_type": "code",
      "source": [
        "\"{0:^10}\".format(\"hi\")"
      ],
      "metadata": {
        "colab": {
          "base_uri": "https://localhost:8080/",
          "height": 35
        },
        "id": "7axPNIukNR09",
        "outputId": "d2fec068-e1e1-49e9-ff4b-7e75e10417fb"
      },
      "execution_count": 103,
      "outputs": [
        {
          "output_type": "execute_result",
          "data": {
            "text/plain": [
              "'    hi    '"
            ],
            "application/vnd.google.colaboratory.intrinsic+json": {
              "type": "string"
            }
          },
          "metadata": {},
          "execution_count": 103
        }
      ]
    },
    {
      "cell_type": "code",
      "source": [
        " \"{0:=^10}\".format(\"hi\")"
      ],
      "metadata": {
        "colab": {
          "base_uri": "https://localhost:8080/",
          "height": 35
        },
        "id": "3YoVOuBiNjQp",
        "outputId": "677f7b15-be6f-490d-b620-9b33da80ff78"
      },
      "execution_count": 106,
      "outputs": [
        {
          "output_type": "execute_result",
          "data": {
            "text/plain": [
              "'====hi===='"
            ],
            "application/vnd.google.colaboratory.intrinsic+json": {
              "type": "string"
            }
          },
          "metadata": {},
          "execution_count": 106
        }
      ]
    },
    {
      "cell_type": "code",
      "source": [
        "\"{0:!<10}\".format(\"hi\")"
      ],
      "metadata": {
        "colab": {
          "base_uri": "https://localhost:8080/",
          "height": 35
        },
        "id": "S8Dat-gONm5j",
        "outputId": "27807c72-17d5-46a3-f701-2f97992a3e05"
      },
      "execution_count": 107,
      "outputs": [
        {
          "output_type": "execute_result",
          "data": {
            "text/plain": [
              "'hi!!!!!!!!'"
            ],
            "application/vnd.google.colaboratory.intrinsic+json": {
              "type": "string"
            }
          },
          "metadata": {},
          "execution_count": 107
        }
      ]
    },
    {
      "cell_type": "code",
      "source": [
        "y = 3.42134234\n",
        "\"{0:0.4f}\".format(y)"
      ],
      "metadata": {
        "colab": {
          "base_uri": "https://localhost:8080/",
          "height": 35
        },
        "id": "inozkYjYNvWy",
        "outputId": "2fbcef8e-a317-4c9e-8878-1d9d78594837"
      },
      "execution_count": 108,
      "outputs": [
        {
          "output_type": "execute_result",
          "data": {
            "text/plain": [
              "'3.4213'"
            ],
            "application/vnd.google.colaboratory.intrinsic+json": {
              "type": "string"
            }
          },
          "metadata": {},
          "execution_count": 108
        }
      ]
    },
    {
      "cell_type": "code",
      "source": [
        "\"{0:10.4f}\".format(y)"
      ],
      "metadata": {
        "colab": {
          "base_uri": "https://localhost:8080/",
          "height": 35
        },
        "id": "wv7-ij_NN8WL",
        "outputId": "e177e89c-77f0-47fa-8c64-4c28112ceab5"
      },
      "execution_count": 109,
      "outputs": [
        {
          "output_type": "execute_result",
          "data": {
            "text/plain": [
              "'    3.4213'"
            ],
            "application/vnd.google.colaboratory.intrinsic+json": {
              "type": "string"
            }
          },
          "metadata": {},
          "execution_count": 109
        }
      ]
    },
    {
      "cell_type": "code",
      "source": [
        "\"{{ and }}\".format()"
      ],
      "metadata": {
        "colab": {
          "base_uri": "https://localhost:8080/",
          "height": 35
        },
        "id": "6BvmkLRROHXa",
        "outputId": "814703d4-2eba-4508-ef1e-14a00fab6352"
      },
      "execution_count": 110,
      "outputs": [
        {
          "output_type": "execute_result",
          "data": {
            "text/plain": [
              "'{ and }'"
            ],
            "application/vnd.google.colaboratory.intrinsic+json": {
              "type": "string"
            }
          },
          "metadata": {},
          "execution_count": 110
        }
      ]
    },
    {
      "cell_type": "code",
      "source": [
        "name = '홍길동'\n",
        "age = 30\n",
        "f'나의 이름은 {name}입니다. 나이는 {age}입니다.'"
      ],
      "metadata": {
        "colab": {
          "base_uri": "https://localhost:8080/",
          "height": 35
        },
        "id": "1tfpomt-PQTa",
        "outputId": "d5d97aeb-f204-44d8-cf73-fc6b38382519"
      },
      "execution_count": 113,
      "outputs": [
        {
          "output_type": "execute_result",
          "data": {
            "text/plain": [
              "'나의 이름은 홍길동입니다. 나이는 30입니다.'"
            ],
            "application/vnd.google.colaboratory.intrinsic+json": {
              "type": "string"
            }
          },
          "metadata": {},
          "execution_count": 113
        }
      ]
    },
    {
      "cell_type": "code",
      "source": [
        "age = 30\n",
        "f'나는 내년이면 {age+1}살이 된다.'"
      ],
      "metadata": {
        "colab": {
          "base_uri": "https://localhost:8080/",
          "height": 35
        },
        "id": "Qy35XSN7PkX0",
        "outputId": "6bf64382-dd17-40c5-c579-babb31d96a73"
      },
      "execution_count": 114,
      "outputs": [
        {
          "output_type": "execute_result",
          "data": {
            "text/plain": [
              "'나는 내년이면 31살이 된다.'"
            ],
            "application/vnd.google.colaboratory.intrinsic+json": {
              "type": "string"
            }
          },
          "metadata": {},
          "execution_count": 114
        }
      ]
    },
    {
      "cell_type": "code",
      "source": [],
      "metadata": {
        "id": "Wze8FgM0Poqb"
      },
      "execution_count": null,
      "outputs": []
    },
    {
      "cell_type": "code",
      "source": [
        "d = {'name':'홍길동', 'age':30}\n",
        "f'나의 이름은 {d[\"name\"]}입니다. 나이는 {d[\"age\"]}입니다.'"
      ],
      "metadata": {
        "colab": {
          "base_uri": "https://localhost:8080/",
          "height": 35
        },
        "id": "BCHwp-aoPtlE",
        "outputId": "34d6c471-dbd2-44c5-8caa-f31c3145b740"
      },
      "execution_count": 115,
      "outputs": [
        {
          "output_type": "execute_result",
          "data": {
            "text/plain": [
              "'나의 이름은 홍길동입니다. 나이는 30입니다.'"
            ],
            "application/vnd.google.colaboratory.intrinsic+json": {
              "type": "string"
            }
          },
          "metadata": {},
          "execution_count": 115
        }
      ]
    }
  ]
}